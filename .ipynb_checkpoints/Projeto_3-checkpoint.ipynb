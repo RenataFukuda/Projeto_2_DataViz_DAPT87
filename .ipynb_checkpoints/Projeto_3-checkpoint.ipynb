{
 "cells": [
  {
   "cell_type": "code",
   "execution_count": 1,
   "id": "da87049b",
   "metadata": {},
   "outputs": [],
   "source": [
    "import requests, time\n",
    "import pandas as pd\n",
    "import re"
   ]
  },
  {
   "cell_type": "code",
   "execution_count": 2,
   "id": "feddd417",
   "metadata": {},
   "outputs": [],
   "source": [
    "pd.set_option('display.max_columns',None)\n",
    "pd.set_option('display.max_colwidth',100)"
   ]
  },
  {
   "cell_type": "code",
   "execution_count": 3,
   "id": "7187650d",
   "metadata": {},
   "outputs": [],
   "source": [
    "your_key = open('key_book_API.txt', 'r').read()"
   ]
  },
  {
   "cell_type": "code",
   "execution_count": null,
   "id": "f94d0b5b",
   "metadata": {},
   "outputs": [],
   "source": [
    "#query_url_archive = f\"https://www.googleapis.com/auth/books\"\n",
    "#archive_request = requests.get(query_url_archive)\n",
    "#archive_request"
   ]
  },
  {
   "cell_type": "code",
   "execution_count": null,
   "id": "1da5efac",
   "metadata": {},
   "outputs": [],
   "source": [
    "query_url_archive = f\"https://www.googleapis.com/books/v1/volumes?q=flowers+inauthor:keyes&key={your_key}\"\n",
    "archive_request = requests.get(query_url_archive)\n",
    "archive_request"
   ]
  },
  {
   "cell_type": "code",
   "execution_count": null,
   "id": "80f229fc",
   "metadata": {},
   "outputs": [],
   "source": [
    "query_url_archive = f\"https://www.googleapis.com/books/v1/volumes?q=subject:fiction&key={your_key}\"\n",
    "archive_request = requests.get(query_url_archive)\n",
    "results = archive_request.json()\n",
    "results"
   ]
  },
  {
   "cell_type": "code",
   "execution_count": null,
   "id": "8787ce6a",
   "metadata": {},
   "outputs": [],
   "source": [
    "search = ['2022']\n",
    "for q in search:\n",
    "    query_url_archive = f\"https://www.googleapis.com/books/v1/volumes?q={q}+subject:fiction&key={your_key}\"\n",
    "    archive_request = requests.get(query_url_archive)\n",
    "    results = archive_request.json()\n",
    "results\n"
   ]
  },
  {
   "cell_type": "code",
   "execution_count": null,
   "id": "5123fdfd",
   "metadata": {},
   "outputs": [],
   "source": [
    "    results = archive_request.json()\n",
    "    df_books = pd.json_normalize(results['items'])\n",
    "    df_books"
   ]
  },
  {
   "cell_type": "code",
   "execution_count": null,
   "id": "2eb5150e",
   "metadata": {},
   "outputs": [],
   "source": [
    "title = 'a'\n",
    "query_url_archive = f\"https://www.googleapis.com/books/v1/volumes?q=a+categories:[Fiction]&key={your_key}\"\n",
    "archive_request = requests.get(query_url_archive)\n",
    "archive_request"
   ]
  },
  {
   "cell_type": "code",
   "execution_count": null,
   "id": "0ed05e6a",
   "metadata": {},
   "outputs": [],
   "source": [
    "results = archive_request.json()\n",
    "results"
   ]
  },
  {
   "cell_type": "code",
   "execution_count": null,
   "id": "ecb9eea7",
   "metadata": {},
   "outputs": [],
   "source": [
    "pd_books = pd.json_normalize(results['items'])\n",
    "pd_books"
   ]
  },
  {
   "cell_type": "code",
   "execution_count": null,
   "id": "32f251be",
   "metadata": {},
   "outputs": [],
   "source": [
    "query_url_archive = f\"https://www.googleapis.com/books/v1/volumes?q=inpublisher:darkside&key={your_key}\"\n",
    "archive_request = requests.get(query_url_archive)\n",
    "results = archive_request.json()\n",
    "results\n",
    "books = pd.json_normalize(results['items'])\n",
    "books"
   ]
  },
  {
   "cell_type": "code",
   "execution_count": null,
   "id": "2cfb1c29",
   "metadata": {},
   "outputs": [],
   "source": [
    "i = 150\n",
    "query_url_archive = f\"https://www.googleapis.com/books/v1/volumes?q=inpublisher:letras&startIndex={i}&maxResults=40&printType=books\"\n",
    "archive_request = requests.get(query_url_archive)\n",
    "results = archive_request.json()\n",
    "publisher_books = pd.json_normalize(results['items'])\n",
    "#i += 40\n",
    "publisher_books"
   ]
  },
  {
   "cell_type": "code",
   "execution_count": null,
   "id": "bb17a018",
   "metadata": {},
   "outputs": [],
   "source": [
    "publishers_list = [\"companhia\", \"aleph\"]\n",
    "\n",
    "for publisher in publishers_list:\n",
    "    i = 0\n",
    "    books_flag = True\n",
    "    while books_flag:\n",
    "        try:\n",
    "            query_url_archive = f\"https://www.googleapis.com/books/v1/volumes?q=inpublisher:{publisher}&startIndex={i}&maxResults=40&printType=books\"\n",
    "            archive_request = requests.get(query_url_archive)\n",
    "            results = archive_request.json()\n",
    "            publisher_books = pd.json_normalize(results['items'])\n",
    "            books = pd.merge(books, publisher_books, how = 'outer')\n",
    "            books = books.drop_duplicates()\n",
    "            i += 40\n",
    "        except:\n",
    "            books_flag = False"
   ]
  },
  {
   "cell_type": "code",
   "execution_count": null,
   "id": "6b682592",
   "metadata": {},
   "outputs": [],
   "source": []
  },
  {
   "cell_type": "code",
   "execution_count": null,
   "id": "68bd77ba",
   "metadata": {},
   "outputs": [],
   "source": []
  },
  {
   "cell_type": "code",
   "execution_count": 7,
   "id": "e4979f6d",
   "metadata": {},
   "outputs": [
    {
     "data": {
      "text/plain": [
       "type"
      ]
     },
     "execution_count": 7,
     "metadata": {},
     "output_type": "execute_result"
    }
   ],
   "source": [
    "type(books)"
   ]
  },
  {
   "cell_type": "code",
   "execution_count": 6,
   "id": "a4aa8d71",
   "metadata": {},
   "outputs": [],
   "source": [
    "books = pd.DataFrame"
   ]
  },
  {
   "cell_type": "code",
   "execution_count": 4,
   "id": "0c5bf1f1",
   "metadata": {},
   "outputs": [
    {
     "ename": "NameError",
     "evalue": "name 'books' is not defined",
     "output_type": "error",
     "traceback": [
      "\u001b[1;31m---------------------------------------------------------------------------\u001b[0m",
      "\u001b[1;31mNameError\u001b[0m                                 Traceback (most recent call last)",
      "Input \u001b[1;32mIn [4]\u001b[0m, in \u001b[0;36m<cell line: 5>\u001b[1;34m()\u001b[0m\n\u001b[0;32m      3\u001b[0m results \u001b[38;5;241m=\u001b[39m archive_request\u001b[38;5;241m.\u001b[39mjson()\n\u001b[0;32m      4\u001b[0m publisher_books \u001b[38;5;241m=\u001b[39m pd\u001b[38;5;241m.\u001b[39mjson_normalize(results[\u001b[38;5;124m'\u001b[39m\u001b[38;5;124mitems\u001b[39m\u001b[38;5;124m'\u001b[39m])\n\u001b[1;32m----> 5\u001b[0m books_df \u001b[38;5;241m=\u001b[39m pd\u001b[38;5;241m.\u001b[39mmerge(\u001b[43mbooks\u001b[49m, publisher_books, how \u001b[38;5;241m=\u001b[39m \u001b[38;5;124m'\u001b[39m\u001b[38;5;124mouter\u001b[39m\u001b[38;5;124m'\u001b[39m) \u001b[38;5;66;03m#####ERRO AQUI\u001b[39;00m\n\u001b[0;32m      6\u001b[0m books \u001b[38;5;241m=\u001b[39m books_df\u001b[38;5;241m.\u001b[39mdrop_duplicates()\n",
      "\u001b[1;31mNameError\u001b[0m: name 'books' is not defined"
     ]
    }
   ],
   "source": [
    "\n",
    "query_url_archive = f\"https://www.googleapis.com/books/v1/volumes?q=a&maxResults=40&printType=books\"\n",
    "archive_request = requests.get(query_url_archive)\n",
    "results = archive_request.json()\n",
    "publisher_books = pd.json_normalize(results['items'])\n",
    "books_df = pd.merge(books, publisher_books, how = 'outer') #####ERRO AQUI\n",
    "books = books_df.drop_duplicates()"
   ]
  },
  {
   "cell_type": "code",
   "execution_count": null,
   "id": "72d045f3",
   "metadata": {},
   "outputs": [],
   "source": []
  },
  {
   "cell_type": "code",
   "execution_count": null,
   "id": "e767b046",
   "metadata": {},
   "outputs": [],
   "source": []
  },
  {
   "cell_type": "code",
   "execution_count": null,
   "id": "c87ec834",
   "metadata": {},
   "outputs": [],
   "source": []
  },
  {
   "cell_type": "code",
   "execution_count": null,
   "id": "47492804",
   "metadata": {},
   "outputs": [],
   "source": []
  }
 ],
 "metadata": {
  "kernelspec": {
   "display_name": "Python 3 (ipykernel)",
   "language": "python",
   "name": "python3"
  },
  "language_info": {
   "codemirror_mode": {
    "name": "ipython",
    "version": 3
   },
   "file_extension": ".py",
   "mimetype": "text/x-python",
   "name": "python",
   "nbconvert_exporter": "python",
   "pygments_lexer": "ipython3",
   "version": "3.9.12"
  }
 },
 "nbformat": 4,
 "nbformat_minor": 5
}
